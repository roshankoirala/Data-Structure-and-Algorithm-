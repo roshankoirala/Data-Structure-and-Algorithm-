{
 "cells": [
  {
   "cell_type": "markdown",
   "metadata": {},
   "source": [
    "# Introduction \n",
    "\n",
    "#### Input:  \n",
    "A sequence of $n$ numbers: $ \\left<a_1, a_2, ..., a_n\\right> $\n",
    "\n",
    "#### Output: \n",
    "A permutation (reordering)  of the input $ \\left<a'_1, a'_2, ..., a'_n\\right> $ sequence such\n",
    "that $ a'_1 \\leq a'_2 \\leq ... \\leq a'_n $\n"
   ]
  },
  {
   "cell_type": "code",
   "execution_count": 1,
   "metadata": {},
   "outputs": [],
   "source": [
    "def insertion_sort(A):\n",
    "    ''' Sort list of comparable elements into non decreasing order. '''\n",
    "    for j in range(1, len(A)):              # Iterates from second element \n",
    "        key = A[j]                          # The element to be inserted in this iteration \n",
    "        i = j - 1                           # To find the correct index for the key \n",
    "        while i >= 0 and A[i] > key:        # if the current value (key) is greater than the one before \n",
    "            A[i + 1] = A[i]                 # make a room for key just in front of it by moving it to the right. \n",
    "            i -= 1                          # Keep moving the sorted number to the righ it untill i > 0 if not stops otherwise. \n",
    "        A[i + 1] = key                      # Once the while loop stops assign the position for 'key'"
   ]
  },
  {
   "cell_type": "markdown",
   "metadata": {},
   "source": [
    "# Explanation \n",
    "- Define a function insertion_sort which take a list A as an input. \n",
    "- Start a for loop starting from the second element from the list. Here j \n",
    "    is the position of the element we want to take on each iteration. We do not \n",
    "    take the first element because there is nothing to compare against. \n",
    "- Find the element to be sorted in that iteration and give it a name 'key'\n",
    "- Define a new index i which ultimately happens to be the right index for the \n",
    "    current element 'key'. To begin with its value is the current index of \n",
    "    the 'key', that is j \n",
    "- Now we start while loop. For each iteration, left to the value to be sorted, \n",
    "    i.e 'key' there is intermediately sorted list. Now we need to look into \n",
    "    that intermediate list from right to left, all the way to the beginning. \n",
    "    We need to stop at the beginning, so i > 0 is there. But if the value before \n",
    "    the key is already greater than 'key' then we no more need to move further right. \n",
    "- If the condition has not met, we shift the (i - 1)th element to the ith place. \n",
    "    That means we make a place for 'key' on the right. \n",
    "- We keep doing this untill all the elements on the right are smaller than 'key' \n",
    "    or we arrive at the beginning of the list. \n",
    "- When the right place is found for the 'key', we assign its value in the final \n",
    "    line of the code. \n",
    "\n",
    "This function does not returns anything. So it replaces the original list and sort it \n",
    "silently. \n",
    "\n",
    "\n",
    "# Test run "
   ]
  },
  {
   "cell_type": "code",
   "execution_count": 2,
   "metadata": {},
   "outputs": [],
   "source": [
    "list_1 = [4, 7, 5, 1, 9, 6, 7, 3]\n",
    "list_2 = [6, 2, 1, 1, 8, 2, 8]"
   ]
  },
  {
   "cell_type": "code",
   "execution_count": 3,
   "metadata": {},
   "outputs": [
    {
     "name": "stdout",
     "output_type": "stream",
     "text": [
      "[1, 3, 4, 5, 6, 7, 7, 9]\n"
     ]
    }
   ],
   "source": [
    "insertion_sort(list_1)\n",
    "print(list_1)"
   ]
  },
  {
   "cell_type": "code",
   "execution_count": 4,
   "metadata": {},
   "outputs": [
    {
     "name": "stdout",
     "output_type": "stream",
     "text": [
      "[1, 1, 2, 2, 6, 8, 8]\n"
     ]
    }
   ],
   "source": [
    "insertion_sort(list_2)\n",
    "print(list_2)"
   ]
  },
  {
   "cell_type": "markdown",
   "metadata": {},
   "source": [
    "# Exercise 2.1 - 2\n",
    "\n",
    "Rewrite the INSERTION-SORT procedure to sort into nonincreasing instead of nondecreasing\n",
    "order."
   ]
  },
  {
   "cell_type": "code",
   "execution_count": 5,
   "metadata": {},
   "outputs": [],
   "source": [
    "def descending_sort(A):\n",
    "    ''' Sort list of comparable elements into non increasing order.  '''\n",
    "    for j in range(1, len(A)):\n",
    "        key = A[j]\n",
    "        i = j - 1\n",
    "        while i >= 0 and A[i] < key:\n",
    "            A[i + 1] = A[i]\n",
    "            i -= 1\n",
    "        A[i + 1] = key"
   ]
  },
  {
   "cell_type": "code",
   "execution_count": 6,
   "metadata": {},
   "outputs": [
    {
     "name": "stdout",
     "output_type": "stream",
     "text": [
      "[9, 7, 7, 6, 5, 4, 3, 1]\n"
     ]
    }
   ],
   "source": [
    "descending_sort(list_1)\n",
    "print(list_1)"
   ]
  },
  {
   "cell_type": "code",
   "execution_count": 7,
   "metadata": {},
   "outputs": [
    {
     "name": "stdout",
     "output_type": "stream",
     "text": [
      "[8, 8, 6, 2, 2, 1, 1]\n"
     ]
    }
   ],
   "source": [
    "descending_sort(list_2)\n",
    "print(list_2)"
   ]
  },
  {
   "cell_type": "markdown",
   "metadata": {},
   "source": [
    "# Exercise 2.1 - 3\n",
    "\n",
    "Consider the searching problem:\n",
    "\n",
    "#### Input\n",
    "A sequence of $n$ numbers $ A = \\left< a_1, a_2, ..., a_n \\right> $ and a value $\\nu$.\n",
    "#### Output \n",
    "An index $i$ such that $ \\nu = A[i] $ or the special value NIL if $\\nu$ does not\n",
    "appear in $A$.\n",
    "\n",
    "\n",
    "Write pseudocode for linear search, which scans through the sequence, looking\n",
    "for $\\nu$. Using a loop invariant, prove that your algorithm is correct. Make sure that\n",
    "your loop invariant fulfills the three necessary properties."
   ]
  },
  {
   "cell_type": "code",
   "execution_count": 8,
   "metadata": {},
   "outputs": [],
   "source": [
    "def linear_search(A, nu):\n",
    "    ''' Searches if an element nu is in a given list A. '''\n",
    "    index_position = []\n",
    "    for j in range(len(A)):\n",
    "        if A[j] == nu:\n",
    "            index_position.append(j)\n",
    "    if len(index_position) == 0:\n",
    "        return 'NIL'\n",
    "    else:\n",
    "        return index_position"
   ]
  },
  {
   "cell_type": "code",
   "execution_count": 9,
   "metadata": {},
   "outputs": [
    {
     "name": "stdout",
     "output_type": "stream",
     "text": [
      "[9, 7, 7, 6, 5, 4, 3, 1]\n",
      "NIL\n"
     ]
    }
   ],
   "source": [
    "print(list_1)\n",
    "print(linear_search(list_1, 10))"
   ]
  },
  {
   "cell_type": "code",
   "execution_count": 10,
   "metadata": {},
   "outputs": [
    {
     "name": "stdout",
     "output_type": "stream",
     "text": [
      "[8, 8, 6, 2, 2, 1, 1]\n",
      "[3, 4]\n"
     ]
    }
   ],
   "source": [
    "print(list_2)\n",
    "print(linear_search(list_2, 2))"
   ]
  },
  {
   "cell_type": "markdown",
   "metadata": {},
   "source": [
    "# Exercise 2.1 - 4\n",
    "\n",
    "Consider the problem of adding two n-bit binary integers, stored in two $n-$element\n",
    "arrays $A$ and $B$. The sum of the two integers should be stored in binary form in\n",
    "an $(n+1)-$element array $C$. State the problem formally and write pseudocode for\n",
    "adding the two integers."
   ]
  },
  {
   "cell_type": "code",
   "execution_count": 11,
   "metadata": {},
   "outputs": [],
   "source": [
    "def binary_add(X, Y):\n",
    "    ''' Adds two n-bit binary numbers and returns (n+1)-bit binary digit. '''\n",
    "    n_digit = len(X)\n",
    "    if n_digit != len(Y):\n",
    "        print('Invalid input')\n",
    "    else:\n",
    "        carry_i = 0\n",
    "        add = []\n",
    "        for i in range(n_digit + 1):\n",
    "            i_add = X[n_digit - i - 1] + Y[n_digit - i - 1] + carry_i\n",
    "            carry_i = i_add // 2\n",
    "            add.append(i_add % 2)\n",
    "        print(add[::-1])"
   ]
  },
  {
   "cell_type": "code",
   "execution_count": 12,
   "metadata": {},
   "outputs": [],
   "source": [
    "bin_1 = [1, 0, 1, 0, 0, 1]\n",
    "bin_2 = [1, 1, 0, 1, 1, 1]\n",
    "bin_3 = [1, 0, 0, 0, 1, 0]\n",
    "bin_4 = [0, 0, 1]"
   ]
  },
  {
   "cell_type": "code",
   "execution_count": 13,
   "metadata": {},
   "outputs": [
    {
     "name": "stdout",
     "output_type": "stream",
     "text": [
      "[1, 1, 0, 0, 0, 0, 0]\n"
     ]
    }
   ],
   "source": [
    "binary_add(bin_1, bin_2)"
   ]
  },
  {
   "cell_type": "code",
   "execution_count": 14,
   "metadata": {},
   "outputs": [
    {
     "name": "stdout",
     "output_type": "stream",
     "text": [
      "[0, 0, 0, 1, 0, 1, 1]\n"
     ]
    }
   ],
   "source": [
    "binary_add(bin_1, bin_3)"
   ]
  },
  {
   "cell_type": "code",
   "execution_count": 15,
   "metadata": {},
   "outputs": [
    {
     "name": "stdout",
     "output_type": "stream",
     "text": [
      "Invalid input\n"
     ]
    }
   ],
   "source": [
    "binary_add(bin_1, bin_4)"
   ]
  },
  {
   "cell_type": "code",
   "execution_count": null,
   "metadata": {},
   "outputs": [],
   "source": []
  }
 ],
 "metadata": {
  "kernelspec": {
   "display_name": "Python 3",
   "language": "python",
   "name": "python3"
  },
  "language_info": {
   "codemirror_mode": {
    "name": "ipython",
    "version": 3
   },
   "file_extension": ".py",
   "mimetype": "text/x-python",
   "name": "python",
   "nbconvert_exporter": "python",
   "pygments_lexer": "ipython3",
   "version": "3.6.5"
  }
 },
 "nbformat": 4,
 "nbformat_minor": 2
}
